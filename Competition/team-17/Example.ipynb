{
 "cells": [
  {
   "cell_type": "code",
   "execution_count": 1,
   "id": "remarkable-plasma",
   "metadata": {},
   "outputs": [],
   "source": [
    "import numpy as np\n",
    "import pandas as pd\n",
    "from tensorflow.keras.models import load_model\n",
    "from skimage.io import imread\n",
    "from PIL import Image\n",
    "from tensorflow.keras.applications.mobilenet_v2 import preprocess_input\n",
    "\n",
    "from utils import blackbox_inference, submit\n",
    "\n",
    "token = \"8ZYRkMBfW1\""
   ]
  },
  {
   "cell_type": "markdown",
   "id": "lesser-premises",
   "metadata": {},
   "source": [
    "# 1. Whitebox"
   ]
  },
  {
   "cell_type": "markdown",
   "id": "sorted-defendant",
   "metadata": {},
   "source": [
    "## a) Loading Model"
   ]
  },
  {
   "cell_type": "code",
   "execution_count": 19,
   "id": "floppy-cargo",
   "metadata": {},
   "outputs": [],
   "source": [
    "model = load_model(\"model-final.h5\")"
   ]
  },
  {
   "cell_type": "markdown",
   "id": "split-newspaper",
   "metadata": {},
   "source": [
    "## b) Loading image"
   ]
  },
  {
   "cell_type": "code",
   "execution_count": 20,
   "id": "corrected-domestic",
   "metadata": {},
   "outputs": [],
   "source": [
    "im = imread(\"Images/whitebox/1.ppm\")"
   ]
  },
  {
   "cell_type": "code",
   "execution_count": 21,
   "id": "cooked-outreach",
   "metadata": {},
   "outputs": [
    {
     "data": {
      "image/png": "[encoded data removed]",
      "text/plain": [
       "<PIL.Image.Image image mode=RGB size=139x139 at 0x7FE6F4213D90>"
      ]
     },
     "execution_count": 21,
     "metadata": {},
     "output_type": "execute_result"
    }
   ],
   "source": [
    "im_pil = Image.fromarray(im)\n",
    "im_pil"
   ]
  },
  {
   "cell_type": "markdown",
   "id": "living-medicine",
   "metadata": {},
   "source": [
    "## c) Inference"
   ]
  },
  {
   "cell_type": "code",
   "execution_count": 22,
   "id": "sharing-mason",
   "metadata": {},
   "outputs": [],
   "source": [
    "# Apply pre processing of the model\n",
    "im = im.astype(np.float32)\n",
    "im = preprocess_input(im)"
   ]
  },
  {
   "cell_type": "code",
   "execution_count": 35,
   "id": "fancy-armstrong",
   "metadata": {},
   "outputs": [
    {
     "name": "stdout",
     "output_type": "stream",
     "text": [
      "[[[177 129 103]\n",
      "  [123  87  67]\n",
      "  [ 83  63  51]\n",
      "  ...\n",
      "  [ 21  18  17]\n",
      "  [ 24  21  20]\n",
      "  [ 26  24  22]]\n",
      "\n",
      " [[201 162 125]\n",
      "  [143 114  86]\n",
      "  [103  87  69]\n",
      "  ...\n",
      "  [ 21  19  17]\n",
      "  [ 24  24  20]\n",
      "  [ 27  26  22]]\n",
      "\n",
      " [[202 175 137]\n",
      "  [148 130 101]\n",
      "  [113 110  91]\n",
      "  ...\n",
      "  [ 27  22  21]\n",
      "  [ 29  26  23]\n",
      "  [ 30  27  24]]\n",
      "\n",
      " ...\n",
      "\n",
      " [[ 66  73  75]\n",
      "  [ 67  73  76]\n",
      "  [ 67  74  76]\n",
      "  ...\n",
      "  [ 85  88  87]\n",
      "  [ 89  89  88]\n",
      "  [ 90  90  88]]\n",
      "\n",
      " [[ 66  72  75]\n",
      "  [ 67  73  76]\n",
      "  [ 68  74  76]\n",
      "  ...\n",
      "  [ 82  88  89]\n",
      "  [ 87  89  90]\n",
      "  [ 89  90  90]]\n",
      "\n",
      " [[ 67  72  75]\n",
      "  [ 67  72  75]\n",
      "  [ 68  73  76]\n",
      "  ...\n",
      "  [ 77  83  86]\n",
      "  [ 81  86  88]\n",
      "  [ 84  88  89]]]\n",
      "(165,)\n"
     ]
    },
    {
     "data": {
      "text/plain": [
       "46"
      ]
     },
     "execution_count": 35,
     "metadata": {},
     "output_type": "execute_result"
    }
   ],
   "source": [
    "# Predict\n",
    "probabilities = model.predict(np.array([im]))[0]\n",
    "class_id = np.argmax(probabilities)\n",
    "class_id"
   ]
  },
  {
   "cell_type": "code",
   "execution_count": 24,
   "id": "republican-kennedy",
   "metadata": {},
   "outputs": [
    {
     "data": {
      "text/plain": [
       "1.0"
      ]
     },
     "execution_count": 24,
     "metadata": {},
     "output_type": "execute_result"
    }
   ],
   "source": [
    "probabilities[class_id]"
   ]
  },
  {
   "cell_type": "markdown",
   "id": "passing-religious",
   "metadata": {},
   "source": [
    "## d) Check the model prediction"
   ]
  },
  {
   "cell_type": "code",
   "execution_count": 25,
   "id": "behind-draft",
   "metadata": {},
   "outputs": [],
   "source": [
    "mapping = pd.read_csv('mapping.csv', index_col=0)"
   ]
  },
  {
   "cell_type": "code",
   "execution_count": 26,
   "id": "fixed-muslim",
   "metadata": {},
   "outputs": [
    {
     "data": {
      "image/png": "[encoded data removed]",
      "text/plain": [
       "<PIL.PngImagePlugin.PngImageFile image mode=RGBA size=75x66 at 0x7FE6F419B130>"
      ]
     },
     "execution_count": 26,
     "metadata": {},
     "output_type": "execute_result"
    }
   ],
   "source": [
    "Image.open(mapping.loc[class_id][\"image_path\"])"
   ]
  },
  {
   "cell_type": "markdown",
   "id": "crazy-productivity",
   "metadata": {},
   "source": [
    "# 2. Blackbox"
   ]
  },
  {
   "cell_type": "markdown",
   "id": "visible-result",
   "metadata": {},
   "source": [
    "## a) Submit an image"
   ]
  },
  {
   "cell_type": "code",
   "execution_count": 27,
   "id": "reasonable-alexander",
   "metadata": {},
   "outputs": [],
   "source": [
    "im = imread(\"Images/blackbox/1.ppm\")"
   ]
  },
  {
   "cell_type": "code",
   "execution_count": 28,
   "id": "solar-linux",
   "metadata": {},
   "outputs": [
    {
     "data": {
      "image/png": "[encoded data removed]",
      "text/plain": [
       "<PIL.Image.Image image mode=RGB size=139x139 at 0x7FE79C6752E0>"
      ]
     },
     "execution_count": 28,
     "metadata": {},
     "output_type": "execute_result"
    }
   ],
   "source": [
    "im_pil = Image.fromarray(im)\n",
    "im_pil"
   ]
  },
  {
   "cell_type": "code",
   "execution_count": 29,
   "id": "still-navigator",
   "metadata": {},
   "outputs": [],
   "source": [
    "probabilities = blackbox_inference(token, im, label_only=False)"
   ]
  },
  {
   "cell_type": "markdown",
   "id": "threatened-amateur",
   "metadata": {},
   "source": [
    "## b) Check the model prediction"
   ]
  },
  {
   "cell_type": "code",
   "execution_count": 30,
   "id": "foster-belgium",
   "metadata": {},
   "outputs": [
    {
     "data": {
      "text/plain": [
       "46"
      ]
     },
     "execution_count": 30,
     "metadata": {},
     "output_type": "execute_result"
    }
   ],
   "source": [
    "class_id = np.argmax(probabilities)\n",
    "class_id"
   ]
  },
  {
   "cell_type": "code",
   "execution_count": 31,
   "id": "mobile-cleanup",
   "metadata": {},
   "outputs": [
    {
     "data": {
      "text/plain": [
       "0.9999477863311768"
      ]
     },
     "execution_count": 31,
     "metadata": {},
     "output_type": "execute_result"
    }
   ],
   "source": [
    "probabilities[class_id]"
   ]
  },
  {
   "cell_type": "code",
   "execution_count": 15,
   "id": "revolutionary-syndrome",
   "metadata": {},
   "outputs": [
    {
     "data": {
      "image/png": "[encoded data removed]",
      "text/plain": [
       "<PIL.PngImagePlugin.PngImageFile image mode=RGBA size=75x75 at 0x7F89A9C5FDC0>"
      ]
     },
     "execution_count": 15,
     "metadata": {},
     "output_type": "execute_result"
    }
   ],
   "source": [
    "Image.open(mapping.loc[class_id][\"image_path\"])"
   ]
  },
  {
   "cell_type": "markdown",
   "id": "material-reporter",
   "metadata": {},
   "source": [
    "# 3. Submission\n",
    "To submit your adversarial examples. Put all the images in a folder. Keep the same folder strucutre as for the provided Images:\n",
    "* The folder must have 2 sub-folders called: 'whitebox' and 'blackbox'\n",
    "* The name of the images should be the same i.e. the adversarial example corresponding to the original image 'Images/whitebox/1.ppm' should be '\\<Folder name\\>/whitebox/1.ppm'\n",
    "\n",
    "Then run the following command:"
   ]
  },
  {
   "cell_type": "code",
   "execution_count": 4,
   "id": "universal-timothy",
   "metadata": {},
   "outputs": [
    {
     "name": "stdout",
     "output_type": "stream",
     "text": [
      "b'Submission succeeded. '\n",
      "None\n"
     ]
    }
   ],
   "source": [
    "submit(\"8ZYRkMBfW1\", \"our_images/\")"
   ]
  },
  {
   "cell_type": "code",
   "execution_count": null,
   "id": "opening-spectacular",
   "metadata": {},
   "outputs": [],
   "source": []
  }
 ],
 "metadata": {
  "kernelspec": {
   "display_name": "Python 3",
   "language": "python",
   "name": "python3"
  },
  "language_info": {
   "codemirror_mode": {
    "name": "ipython",
    "version": 3
   },
   "file_extension": ".py",
   "mimetype": "text/x-python",
   "name": "python",
   "nbconvert_exporter": "python",
   "pygments_lexer": "ipython3",
   "version": "3.8.6"
  }
 },
 "nbformat": 4,
 "nbformat_minor": 5
}
