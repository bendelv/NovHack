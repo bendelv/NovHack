{
 "cells": [
  {
   "cell_type": "code",
   "execution_count": 2,
   "id": "considered-butterfly",
   "metadata": {},
   "outputs": [],
   "source": [
    "import numpy as np\n",
    "import math\n",
    "import pandas as pd\n",
    "from tensorflow.keras.models import load_model\n",
    "from skimage.io import imread\n",
    "from PIL import Image\n",
    "from tensorflow.keras.applications.mobilenet_v2 import preprocess_input\n",
    "\n",
    "from utils import blackbox_inference, submit\n",
    "\n",
    "token = \"8ZYRkMBfW1\""
   ]
  },
  {
   "cell_type": "code",
   "execution_count": null,
   "id": "endless-hepatitis",
   "metadata": {},
   "outputs": [],
   "source": [
    "grid_var = [0.5, 1, 1.5]\n",
    "ims_res = []\n",
    "ims_truth = []\n",
    "\n",
    "for i in range(10):\n",
    "    im = imread(\"Images/blackbox/{}.ppm\".format(i+1))\n",
    "    #im_pil = Image.fromarray(im)\n",
    "\n",
    "    \n",
    "    noise_layer = np.zeros((139, 139, 3))\n",
    "    result_hacked = []\n",
    "    \n",
    "    probabilities = blackbox_inference(token, im, label_only=False)\n",
    "    im_truth = np.argmax(probabilities)\n",
    "    ims_truth.append(im_truth)\n",
    "    \n",
    "    for var in grid_var:\n",
    "        for w in range(noise_layer.shape[0]):\n",
    "            for h in range(noise_layer.shape[1]):\n",
    "                for c in range(noise_layer.shape[2]):\n",
    "                    noise_layer[w][h][c] = math.ceil(np.random.normal(0, var))\n",
    "    \n",
    "        im_modif = (im + noise_layer).astype(int)\n",
    "        probabilities = blackbox_inference(token, im_modif, label_only=False)\n",
    "        result_hacked.append(np.argmax(probabilities))\n",
    "        \n",
    "    ims_res.append(result_hacked)\n",
    "\n",
    "print(ims_truth)\n",
    "print(ims_res)"
   ]
  },
  {
   "cell_type": "code",
   "execution_count": null,
   "id": "expanded-palestinian",
   "metadata": {},
   "outputs": [],
   "source": []
  },
  {
   "cell_type": "code",
   "execution_count": null,
   "id": "offshore-canvas",
   "metadata": {},
   "outputs": [],
   "source": []
  }
 ],
 "metadata": {
  "kernelspec": {
   "display_name": "Python 3",
   "language": "python",
   "name": "python3"
  },
  "language_info": {
   "codemirror_mode": {
    "name": "ipython",
    "version": 3
   },
   "file_extension": ".py",
   "mimetype": "text/x-python",
   "name": "python",
   "nbconvert_exporter": "python",
   "pygments_lexer": "ipython3",
   "version": "3.8.6"
  }
 },
 "nbformat": 4,
 "nbformat_minor": 5
}
