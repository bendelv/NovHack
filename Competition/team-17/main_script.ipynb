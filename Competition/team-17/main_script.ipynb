{
 "cells": [
  {
   "cell_type": "code",
   "execution_count": null,
   "id": "mechanical-spanish",
   "metadata": {},
   "outputs": [],
   "source": [
    "! pip install keras\n",
    "import numpy as np\n",
    "from keras.preprocessing import image\n",
    "from keras import backend as K\n",
    "from PIL import Image\n",
    "\n",
    "import numpy as np\n",
    "import pandas as pd\n",
    "from tensorflow.keras.models import load_model\n",
    "from skimage.io import imread\n",
    "from PIL import Image\n",
    "from tensorflow.keras.applications.mobilenet_v2 import preprocess_input\n",
    "\n",
    "from utils import blackbox_inference, submit\n",
    "\n",
    "token = \"8ZYRkMBfW1\""
   ]
  },
  {
   "cell_type": "markdown",
   "id": "posted-calendar",
   "metadata": {},
   "source": [
    "# 1. Whitebox"
   ]
  },
  {
   "cell_type": "markdown",
   "id": "million-harmony",
   "metadata": {},
   "source": [
    "## a) Loading Model"
   ]
  },
  {
   "cell_type": "code",
   "execution_count": null,
   "id": "radio-reservation",
   "metadata": {},
   "outputs": [],
   "source": [
    "model = load_model(\"model-final.h5\")\n",
    "print(model)"
   ]
  },
  {
   "cell_type": "markdown",
   "id": "prescribed-briefing",
   "metadata": {},
   "source": [
    "## b) Loading image"
   ]
  },
  {
   "cell_type": "code",
   "execution_count": 5,
   "id": "elect-nitrogen",
   "metadata": {},
   "outputs": [],
   "source": [
    "im = imread(\"Images/whitebox/1.ppm\")"
   ]
  },
  {
   "cell_type": "code",
   "execution_count": 6,
   "id": "thorough-essex",
   "metadata": {},
   "outputs": [
    {
     "data": {
      "image/png": "[encoded data removed]",
      "text/plain": [
       "<PIL.Image.Image image mode=RGB size=139x139 at 0x7FCB803DF640>"
      ]
     },
     "execution_count": 6,
     "metadata": {},
     "output_type": "execute_result"
    }
   ],
   "source": [
    "im_pil = Image.fromarray(im)\n",
    "im_pil"
   ]
  },
  {
   "cell_type": "markdown",
   "id": "representative-validity",
   "metadata": {},
   "source": [
    "## c) Loading Test set"
   ]
  },
  {
   "cell_type": "code",
   "execution_count": null,
   "id": "metallic-equation",
   "metadata": {},
   "outputs": [],
   "source": [
    "def load_images_from_folder(folder):\n",
    "    images = []\n",
    "    for filename in os.listdir(folder):\n",
    "        img = imread(os.path.join(folder,filename))\n",
    "        if img is not None:\n",
    "            images.append(img)\n",
    "    return images\n",
    "\n"
   ]
  },
  {
   "cell_type": "markdown",
   "id": "liquid-certificate",
   "metadata": {},
   "source": [
    "## c) Inference"
   ]
  },
  {
   "cell_type": "code",
   "execution_count": 7,
   "id": "subsequent-blend",
   "metadata": {},
   "outputs": [
    {
     "ename": "NameError",
     "evalue": "name 'object_type_to_fake' is not defined",
     "output_type": "error",
     "traceback": [
      "\u001b[0;31m---------------------------------------------------------------------------\u001b[0m",
      "\u001b[0;31mNameError\u001b[0m                                 Traceback (most recent call last)",
      "\u001b[0;32m<ipython-input-7-84f7a29509d7>\u001b[0m in \u001b[0;36m<module>\u001b[0;34m\u001b[0m\n\u001b[1;32m     29\u001b[0m \u001b[0;31m# Define the cost function.\u001b[0m\u001b[0;34m\u001b[0m\u001b[0;34m\u001b[0m\u001b[0;34m\u001b[0m\u001b[0m\n\u001b[1;32m     30\u001b[0m \u001b[0;31m# Our 'cost' will be the likelihood out image is the target class according to the pre-trained model\u001b[0m\u001b[0;34m\u001b[0m\u001b[0;34m\u001b[0m\u001b[0;34m\u001b[0m\u001b[0m\n\u001b[0;32m---> 31\u001b[0;31m \u001b[0mcost_function\u001b[0m \u001b[0;34m=\u001b[0m \u001b[0mmodel_output_layer\u001b[0m\u001b[0;34m[\u001b[0m\u001b[0;36m0\u001b[0m\u001b[0;34m,\u001b[0m \u001b[0mobject_type_to_fake\u001b[0m\u001b[0;34m]\u001b[0m\u001b[0;34m\u001b[0m\u001b[0;34m\u001b[0m\u001b[0m\n\u001b[0m\u001b[1;32m     32\u001b[0m \u001b[0;34m\u001b[0m\u001b[0m\n\u001b[1;32m     33\u001b[0m \u001b[0;31m# We'll ask Keras to calculate the gradient based on the input image and the currently predicted class\u001b[0m\u001b[0;34m\u001b[0m\u001b[0;34m\u001b[0m\u001b[0;34m\u001b[0m\u001b[0m\n",
      "\u001b[0;31mNameError\u001b[0m: name 'object_type_to_fake' is not defined"
     ]
    }
   ],
   "source": [
    "\n",
    "# Grab a reference to the first and last layer of the neural net\n",
    "model_input_layer = model.layers[0].input\n",
    "model_output_layer = model.layers[-1].output\n",
    "\n",
    "\n",
    "\n",
    "object_type_to_fake = 859\n",
    "\n",
    "# Load the image to hack\n",
    "im_pil = image.load_img(\"cat.png\", target_size=(299, 299))\n",
    "original_image = image.img_to_array(img)\n",
    "\n",
    "# Scale the image so all pixel intensities are between [-1, 1] as the model expects\n",
    "original_image /= 255.\n",
    "original_image -= 0.5\n",
    "original_image *= 2.\n",
    "\n",
    "# Add a 4th dimension for batch size (as Keras expects)\n",
    "original_image = np.expand_dims(original_image, axis=0)\n",
    "\n",
    "# Pre-calculate the maximum change we will allow to the image\n",
    "# We'll make sure our hacked image never goes past this so it doesn't look funny.\n",
    "# A larger number produces an image faster but risks more distortion.\n",
    "max_change_above = original_image + 0.01\n",
    "max_change_below = original_image - 0.01\n",
    "\n",
    "# Create a copy of the input image to hack on\n",
    "hacked_image = np.copy(original_image)\n",
    "\n",
    "# How much to update the hacked image in each iteration\n",
    "learning_rate = 0.1\n",
    "\n",
    "# Define the cost function.\n",
    "# Our 'cost' will be the likelihood out image is the target class according to the pre-trained model\n",
    "cost_function = model_output_layer[0, object_type_to_fake]\n",
    "\n",
    "# We'll ask Keras to calculate the gradient based on the input image and the currently predicted class\n",
    "# In this case, referring to \"model_input_layer\" will give us back image we are hacking.\n",
    "gradient_function = K.gradients(cost_function, model_input_layer)[0]\n",
    "\n",
    "# Create a Keras function that we can call to calculate the current cost and gradient\n",
    "grab_cost_and_gradients_from_model = K.function([model_input_layer, K.learning_phase()], [cost_function, gradient_function])\n",
    "\n",
    "cost = 0.0\n",
    "\n",
    "# In a loop, keep adjusting the hacked image slightly so that it tricks the model more and more\n",
    "# until it gets to at least 80% confidence\n",
    "while cost < 0.80:\n",
    "    # Check how close the image is to our target class and grab the gradients we\n",
    "    # can use to push it one more step in that direction.\n",
    "    # Note: It's really important to pass in '0' for the Keras learning mode here!\n",
    "    # Keras layers behave differently in prediction vs. train modes!\n",
    "    cost, gradients = grab_cost_and_gradients_from_model([hacked_image, 0])\n",
    "\n",
    "    # Move the hacked image one step further towards fooling the model\n",
    "    hacked_image += gradients * learning_rate\n",
    "\n",
    "    # Ensure that the image doesn't ever change too much to either look funny or to become an invalid image\n",
    "    hacked_image = np.clip(hacked_image, max_change_below, max_change_above)\n",
    "    hacked_image = np.clip(hacked_image, -1.0, 1.0)\n",
    "\n",
    "    print(\"Model's predicted likelihood that the image is a toaster: {:.8}%\".format(cost * 100))\n",
    "\n",
    "# De-scale the image's pixels from [-1, 1] back to the [0, 255] range\n",
    "img = hacked_image[0]\n",
    "img /= 2.\n",
    "img += 0.5\n",
    "img *= 255.\n",
    "\n",
    "# Save the hacked image!\n",
    "im = Image.fromarray(img.astype(np.uint8))\n",
    "im.save(\"hacked-image.png\")\n",
    "view rawgenerated_hacked_image.py hosted with ❤ by GitHub"
   ]
  },
  {
   "cell_type": "code",
   "execution_count": null,
   "id": "acting-decrease",
   "metadata": {},
   "outputs": [],
   "source": []
  }
 ],
 "metadata": {
  "kernelspec": {
   "display_name": "Python 3",
   "language": "python",
   "name": "python3"
  },
  "language_info": {
   "codemirror_mode": {
    "name": "ipython",
    "version": 3
   },
   "file_extension": ".py",
   "mimetype": "text/x-python",
   "name": "python",
   "nbconvert_exporter": "python",
   "pygments_lexer": "ipython3",
   "version": "3.8.6"
  }
 },
 "nbformat": 4,
 "nbformat_minor": 5
}
